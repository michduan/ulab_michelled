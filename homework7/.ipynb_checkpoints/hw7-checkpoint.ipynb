{
 "cells": [
  {
   "cell_type": "markdown",
   "id": "21a1f0d2-d75c-4443-b816-1d1db3760454",
   "metadata": {},
   "source": [
    "# HW 7 - Libraries + Modules\n",
    "ULAB - Physics and Astronomy Division \\\n",
    "Due **Wednesday, November 6th, 2024 at 11:59pm** on Gradescope\n",
    "\n",
    "--------------------------------------------------------------\n",
    "\n",
    "## Module vs. Package vs. Library\n",
    "### Module\n",
    "A **module** is a single file containing Python code (typically ending in a `.py` extension) that contains functions and variables. \n",
    "- They can be imported into other Python files or notebooks\n",
    "- You use modules to organize code into smaller, reuseable parts\n",
    "- Ex: `even_sum.py` that we created during lecture.\n",
    "\n",
    "*You will create your OWN module for this homework and use that we made during class.*\n",
    "\n",
    "### Package\n",
    "A **package** is a group of modules, organized like a directory. \n",
    "- A package requires a special `__init__.py` file to tell Python that the ENTIRE directory is something you would like to import.\n",
    "- Packages can contain sub-pacakges\n",
    "- Ex: `BAGLE_Microlensing` is an example of a package (if you are in Dex's group, this should be familar to you). Or you could think of `paarti` if you are in Brianna's group.\n",
    "\n",
    "*You will NOT be working with a package for this homework.*\n",
    "\n",
    "### Library\n",
    "A **library** is a much broader term that also refers to a collection of modules (like a package) but a library can also contain mulitple packages. \n",
    "- Libraries serve a much wider range of functionality for\n",
    "- Programmers use packages to have ready-to-go tools that can be used for data manipulation, web development, machine learning or simulations.\n",
    "- Ex: `numpy` is a very common library. Later in this course we will also be working some of the following libraries `matplotlib`, `scipy`, and `astropy`, `pandas`, etc\n",
    "\n",
    "*You WILL be working with the extensive numpy library for this homework!*\n",
    "\n",
    "--------------------------------------------------------------"
   ]
  },
  {
   "cell_type": "markdown",
   "id": "8dc7e46b-1e8e-486c-a2e9-d615c687028b",
   "metadata": {},
   "source": [
    "# 1 NumPy\n",
    "**NumPy** (aka Numerical Python) is a library that was designed for caring out computations in Python. \n",
    "\n",
    "We did not have a ton of time to work through examples during class, so I will ask that you check out this website for more information: https://numpy.org/doc/ \n",
    "\n",
    "Before we can work through any problems, you need to call the following in your notebook:"
   ]
  },
  {
   "cell_type": "code",
   "execution_count": 2,
   "id": "08dabd73-3dbc-4aab-843a-d4b81102835d",
   "metadata": {},
   "outputs": [],
   "source": [
    "import numpy as np"
   ]
  },
  {
   "cell_type": "markdown",
   "id": "92c77920-20fc-455e-bf52-10b5a518ed2d",
   "metadata": {},
   "source": [
    "## 1.1 Lists vs. Arrays\n",
    "*When I first started working with NumPy I didn't understand what was so special about arrays. This homework problem should help illustrate the difference. Make sure to follow each step and follow good coding practices.*\n",
    "\n",
    "1) Make a list called `my_list` and make an array called `my_arr` with the same values. There is an example below, but don't copy mine! Ex:\n",
    "```\n",
    "my_list = [11, 12, 13, 14, 15]\n",
    "my_arr = np.array([11, 12, 13, 14, 15])\n",
    "```\n",
    "*Notice that to use the `numpy` package we had to call its short cut `np` and then call upon its funciton `.array()`. This is similar to working with a built-in python function like `.append()`.*"
   ]
  },
  {
   "cell_type": "code",
   "execution_count": 17,
   "id": "494f31ac-a231-4f65-b202-e85208d6bee4",
   "metadata": {},
   "outputs": [],
   "source": [
    "# a list containing 1-5, an array containing 1-5\n",
    "my_list = [1, 2, 3, 4, 5]\n",
    "my_arr = np.array([6, 7, 8, 9, 10])"
   ]
  },
  {
   "cell_type": "markdown",
   "id": "861d42c4-411e-4ef9-b85c-68e1f61c4fcb",
   "metadata": {},
   "source": [
    "2) Multiply `my_list` by 4 and multiply `my_arr` by 4. Print the results. Describe what happens in a comment."
   ]
  },
  {
   "cell_type": "code",
   "execution_count": 19,
   "id": "79245f57-3a83-4300-96d2-ea7a9035d3eb",
   "metadata": {},
   "outputs": [
    {
     "name": "stdout",
     "output_type": "stream",
     "text": [
      "[1, 2, 3, 4, 5, 1, 2, 3, 4, 5, 1, 2, 3, 4, 5, 1, 2, 3, 4, 5]\n",
      "[24 28 32 36 40]\n"
     ]
    }
   ],
   "source": [
    "# multiplying both by 4\n",
    "my_list_mul = 4 * my_list \n",
    "my_arr_mul = 4 * my_arr\n",
    "print(my_list_mul)\n",
    "print(my_arr_mul)\n",
    "\n",
    "# By multiplying my_list by 4, the list itself gets printed out four times. By multiplying my_arr by 4, each element within the array is mulitplied by 4."
   ]
  },
  {
   "cell_type": "markdown",
   "id": "aa2dc2fb-7a26-42e8-90db-18d1598f4d7c",
   "metadata": {},
   "source": [
    "3) Add `my_list` with `my_list`. Add `my_arr` with `my_arr`. Add `my_list` with `my_arr`. Print the results. Describe what happens in a comment."
   ]
  },
  {
   "cell_type": "code",
   "execution_count": 23,
   "id": "9f18f22e-3137-4aa9-b623-6d2c0caec4c3",
   "metadata": {},
   "outputs": [
    {
     "name": "stdout",
     "output_type": "stream",
     "text": [
      "[1, 2, 3, 4, 5, 1, 2, 3, 4, 5]\n",
      "[12 14 16 18 20]\n",
      "[ 7  9 11 13 15]\n"
     ]
    }
   ],
   "source": [
    "# each different list and array added together\n",
    "sum_list = my_list + my_list \n",
    "sum_arr = my_arr + my_arr \n",
    "sum_list_arr = my_list + my_arr \n",
    "print(sum_list)\n",
    "print(sum_arr)\n",
    "print(sum_list_arr) \n",
    "\n",
    "# When you add together my_list and my_list, it is just a concatenation of the two lists.\n",
    "# When you add two arrays, each element is added together. \n",
    "# when you add together the list and array, it adds each element together. "
   ]
  },
  {
   "cell_type": "markdown",
   "id": "3be18720-756f-43d1-bad7-bd85e138ef7e",
   "metadata": {},
   "source": [
    "4) Subtract `my_list` with `my_list`. Subtract `my_arr` with `my_arr`. Subtract `my_list` with `my_arr`. Print the results. Describe what happens in a comment."
   ]
  },
  {
   "cell_type": "code",
   "execution_count": 33,
   "id": "131b09c8-d352-4566-b710-31316483ae89",
   "metadata": {},
   "outputs": [
    {
     "ename": "TypeError",
     "evalue": "unsupported operand type(s) for -: 'list' and 'list'",
     "output_type": "error",
     "traceback": [
      "\u001b[1;31m---------------------------------------------------------------------------\u001b[0m",
      "\u001b[1;31mTypeError\u001b[0m                                 Traceback (most recent call last)",
      "Cell \u001b[1;32mIn[33], line 2\u001b[0m\n\u001b[0;32m      1\u001b[0m \u001b[38;5;66;03m# subtracting the lists and the array\u001b[39;00m\n\u001b[1;32m----> 2\u001b[0m sub_list \u001b[38;5;241m=\u001b[39m my_list \u001b[38;5;241m-\u001b[39m my_list\n\u001b[0;32m      3\u001b[0m sub_arr \u001b[38;5;241m=\u001b[39m my_arr \u001b[38;5;241m-\u001b[39m my_arr \n\u001b[0;32m      4\u001b[0m sub_list_arr \u001b[38;5;241m=\u001b[39m my_list \u001b[38;5;241m-\u001b[39m my_arr \n",
      "\u001b[1;31mTypeError\u001b[0m: unsupported operand type(s) for -: 'list' and 'list'"
     ]
    }
   ],
   "source": [
    "# subtracting the lists and the array\n",
    "sub_list = my_list - my_list\n",
    "sub_arr = my_arr - my_arr \n",
    "sub_list_arr = my_list - my_arr \n",
    "print(sub_list)\n",
    "print(sub_arr)\n",
    "print(sub_list_arr) \n",
    "# When subtracting my_list from my_list, it errors because you can't subtract lists from lists. \n",
    "# When you subtract the arrays from each other, it subtracts each element\n",
    "# when you subtract the list from the array, it subtracts each element"
   ]
  },
  {
   "cell_type": "markdown",
   "id": "9089eff6-4251-4a52-b263-c77b11343ece",
   "metadata": {},
   "source": [
    "5) Multiply `my_list` with `my_list`. Multply `my_arr` with `my_arr`. Multiply `my_list` with `my_arr`. Print the results. Describe what happens in a comment."
   ]
  },
  {
   "cell_type": "code",
   "execution_count": 41,
   "id": "cae7749f-cc6e-45d6-9e07-72aa2cefc0b6",
   "metadata": {},
   "outputs": [
    {
     "ename": "TypeError",
     "evalue": "can't multiply sequence by non-int of type 'list'",
     "output_type": "error",
     "traceback": [
      "\u001b[1;31m---------------------------------------------------------------------------\u001b[0m",
      "\u001b[1;31mTypeError\u001b[0m                                 Traceback (most recent call last)",
      "Cell \u001b[1;32mIn[41], line 2\u001b[0m\n\u001b[0;32m      1\u001b[0m \u001b[38;5;66;03m# multiplying each list and array\u001b[39;00m\n\u001b[1;32m----> 2\u001b[0m mul_list \u001b[38;5;241m=\u001b[39m my_list \u001b[38;5;241m*\u001b[39m my_list \n\u001b[0;32m      3\u001b[0m mul_arr \u001b[38;5;241m=\u001b[39m my_arr \u001b[38;5;241m*\u001b[39m my_arr \n\u001b[0;32m      4\u001b[0m mul_list_arr \u001b[38;5;241m=\u001b[39m my_list \u001b[38;5;241m*\u001b[39m my_arr \n",
      "\u001b[1;31mTypeError\u001b[0m: can't multiply sequence by non-int of type 'list'"
     ]
    }
   ],
   "source": [
    "# multiplying each list and array\n",
    "mul_list = my_list * my_list \n",
    "mul_arr = my_arr * my_arr \n",
    "mul_list_arr = my_list * my_arr \n",
    "print(mul_list)\n",
    "print(mul_arr)\n",
    "print(mul_list_arr)\n",
    "# When multiplying the lists together, you error because you can't multiply lists together\n",
    "# Multiplying the arrays multiplying the elements together\n",
    "# Multiplying the lists with the array also multiplies each element together"
   ]
  },
  {
   "cell_type": "markdown",
   "id": "55175f6e-e6b2-41b1-8015-5f1b099664e8",
   "metadata": {},
   "source": [
    "7) Divide `my_list` with `my_list`. Divide `my_arr` with `my_arr`. Divide `my_list` with `my_arr`. Print the results. Describe what happens in a comment."
   ]
  },
  {
   "cell_type": "code",
   "execution_count": 53,
   "id": "ccdc8e13-ec41-4b79-8034-0934c012580e",
   "metadata": {},
   "outputs": [
    {
     "ename": "TypeError",
     "evalue": "unsupported operand type(s) for /: 'list' and 'list'",
     "output_type": "error",
     "traceback": [
      "\u001b[1;31m---------------------------------------------------------------------------\u001b[0m",
      "\u001b[1;31mTypeError\u001b[0m                                 Traceback (most recent call last)",
      "Cell \u001b[1;32mIn[53], line 2\u001b[0m\n\u001b[0;32m      1\u001b[0m \u001b[38;5;66;03m# dividing each list and array\u001b[39;00m\n\u001b[1;32m----> 2\u001b[0m div_list \u001b[38;5;241m=\u001b[39m my_list \u001b[38;5;241m/\u001b[39m my_list \n\u001b[0;32m      3\u001b[0m div_arr \u001b[38;5;241m=\u001b[39m my_arr \u001b[38;5;241m/\u001b[39m my_arr \n\u001b[0;32m      4\u001b[0m div_list_arr \u001b[38;5;241m=\u001b[39m my_list \u001b[38;5;241m/\u001b[39m my_arr \n",
      "\u001b[1;31mTypeError\u001b[0m: unsupported operand type(s) for /: 'list' and 'list'"
     ]
    }
   ],
   "source": [
    "# dividing each list and array\n",
    "div_list = my_list / my_list \n",
    "div_arr = my_arr / my_arr \n",
    "div_list_arr = my_list / my_arr \n",
    "print(div_list)\n",
    "print(div_arr)\n",
    "print(div_list_arr)\n",
    "# Dividing lists doesn't work and will error because you can't divide lists\n",
    "# When dividing two different arrays, it divides the elements with each other\n",
    "# It divides the array from the lists "
   ]
  },
  {
   "cell_type": "markdown",
   "id": "1fb261e6-b99b-4e36-953a-e899da010469",
   "metadata": {},
   "source": [
    "8) After working through this problem, in at least two sentences, describe the difference between a list and an array."
   ]
  },
  {
   "cell_type": "code",
   "execution_count": 55,
   "id": "d702ddad-c84d-43d5-9fe0-d10b9083bf85",
   "metadata": {},
   "outputs": [],
   "source": [
    "# Lists, while seemingly like arrays, don't allow much arithmetic manipulation, such as adding lists together. The lists get combined in a concatenation, while if you added two arrays, it would add each individual element together. Additionally, arrays allow element-to-element manipulation, where you can retain the array's length while also formulating the needed operation. "
   ]
  },
  {
   "cell_type": "markdown",
   "id": "fdbccced-d3f0-4948-be6e-471028979576",
   "metadata": {},
   "source": [
    "## 1.2 Nested List and Multi-Dimensional Arrays\n",
    "A **nested list** is when you have a list as an element for a list. Example:\n",
    "```\n",
    "nested_list = [[1, 2, 3], [4, 5, 6]]\n",
    "```\n",
    "\n",
    "A **multi-dimensional array** is essentially a nested list, but it contains the properties of a matrix. Example:\n",
    "```\n",
    "multi_d_array = np.array([[1, 2, 3], [4, 5, 6]])\n",
    "```\n",
    "\n",
    "Go to this website for more information on NumPy: https://www.w3schools.com/python/numpy/default.asp\n",
    "\n",
    "Write a **function** that takes in a two-dimensional array. Example:\n",
    "\n",
    "```\n",
    "arr3 = np.array([[2, 4, 6], [8, 10, 12], [14, 16, 18]])\n",
    "```\n",
    "\n",
    "and then returns the second value in each row. Example:\n",
    "\n",
    "```\n",
    "[4, 10, 16]\n",
    "```"
   ]
  },
  {
   "cell_type": "code",
   "execution_count": 69,
   "id": "e6d45993-2390-4e2d-bb6e-930919dd7d46",
   "metadata": {},
   "outputs": [
    {
     "name": "stdout",
     "output_type": "stream",
     "text": [
      "[ 4 10 16]\n"
     ]
    }
   ],
   "source": [
    "# I used array slicing for the 2-D array\n",
    "def second_val(array): \n",
    "    return array[:, 1]\n",
    "\n",
    "# test case 1\n",
    "array1 = np.array([[2, 4, 6], [8, 10, 12], [14, 16, 18]]) \n",
    "result = second_val(array1)\n",
    "print(result)"
   ]
  },
  {
   "cell_type": "markdown",
   "id": "e5c0700d-def9-4afe-86f5-0a4b8862c0b4",
   "metadata": {},
   "source": [
    "In 2-3 sentences, describe what section of the website helped you write your function. "
   ]
  },
  {
   "cell_type": "code",
   "execution_count": 61,
   "id": "179c2c8d-3493-40a5-931f-7a92be8551a6",
   "metadata": {},
   "outputs": [],
   "source": [
    "# I went to the section that has to do with Slicing 2-D arrays, which showed us how to slice elements using indexes. It showed us how it manipulated between a two dimensional array with arr = np.array([[1, 2, 3, 4, 5], [6, 7, 8, 9, 10]]), and I based my answer off of it. "
   ]
  },
  {
   "cell_type": "markdown",
   "id": "2bee5ead-232c-495c-8e42-1721bd315957",
   "metadata": {},
   "source": [
    "How would you take a nested list and return the second value in each row? Explain in 2-3 sentences and show an example."
   ]
  },
  {
   "cell_type": "code",
   "execution_count": 67,
   "id": "59e9cf55-cfff-48db-a157-7d60b2035941",
   "metadata": {},
   "outputs": [],
   "source": [
    "# I would take a nested list, and utilize currying, where I index twice, first into the list, then next into the element of the list. For example, I could do list[1][1], where I would index into the second list of the nested list and take the second element with the index of 1."
   ]
  },
  {
   "cell_type": "markdown",
   "id": "25eaeadc-b09d-4ca8-9849-822879abdad2",
   "metadata": {},
   "source": [
    "## 1.3 Up to You!\n",
    "With the website I just gave you: https://www.w3schools.com/python/numpy/default.asp\n",
    "\n",
    "I recommend working through the examples they provide (you don't have to do all of them, but a few would be good). It will help you build an intuition for numpy. It won't take very long, there are only a couple of examples per section.\n",
    "\n",
    "Write you own **function** that follows the theme of one of the sections (i.e. array reshaping, array filter, random intro, etc). For example, if you are curious about the section \"**NumPy Creating Arrays**\" you could write a function that creates a multi-dimensional array.\n",
    "\n",
    "```\n",
    "\n",
    ">>> def make_multi_dimensional_array(one_d_array, dimensions):\n",
    "...     # Creates a multi-dimensional array\n",
    "...     # Your code here\n",
    "...     return # Your code here\n",
    "\n",
    ">>> my_one_d_array = [2, 4, 6, 8]\n",
    ">>> my_dimension = 10\n",
    ">>> ten_d_array = make_multi_dimensional_array(my_one_d_array, my_dimension)\n",
    ">>> print(ten_d_array)\n",
    "[[[[[[[[[[2 4 6 8]]]]]]]]]]\n",
    "\n",
    "```\n",
    "\n",
    "Your function should be more detailed than the example I gave you. Include at least one of the following: \n",
    "- a conditional statement\n",
    "- an assignment operator\n",
    "- a loop (`for` or `while`)\n",
    "- `if`, `elif`, `else`, statement"
   ]
  },
  {
   "cell_type": "code",
   "execution_count": 83,
   "id": "359f524a-30ee-446c-a6d6-a57faecf5bcb",
   "metadata": {},
   "outputs": [
    {
     "name": "stdout",
     "output_type": "stream",
     "text": [
      "[42 44]\n",
      "[10 12]\n"
     ]
    }
   ],
   "source": [
    "# A function that filters through an boolean array\n",
    "# condition: elements % 2 == 0\n",
    "# assignment is filter_arr = []\n",
    "# for loop: for element in array\n",
    "# if: if (element % 2 == 0)\n",
    "# I go through each element and check if mod 2 is 0 for evenness \n",
    "# apply the boolean to the array\n",
    "def array_filtering_is_even(array): \n",
    "    filter_arr = [] \n",
    "    for element in array: \n",
    "        if (element % 2 == 0): \n",
    "            filter_arr.append(True)\n",
    "        else: \n",
    "            filter_arr.append(False)\n",
    "    final_array = array[filter_arr]\n",
    "    return final_array\n",
    "\n",
    "# test 1, should result in 42, 44\n",
    "arr = np.array([41, 42, 43, 44])\n",
    "result = array_filtering_is_even(arr)\n",
    "print(result)\n",
    "# test 2, should result in 10, 12\n",
    "arr = np.array([11, 10, 12])\n",
    "result = array_filtering_is_even(arr)\n",
    "print(result)"
   ]
  },
  {
   "cell_type": "markdown",
   "id": "88df7c51-0196-42b5-aabf-5068bc6ad675",
   "metadata": {},
   "source": [
    "In the section you took inspiration from, show all of the examples below. Follow good coding practices and give at least two test cases for each example. Don't forget comments! \\\n",
    "\\\n",
    "*For my example, I took inspiration from **NumPy Creating Arrays** so I would show following examples with DIFFERENT test cases: Create a NumPy ndarray Object, Dimensions in Arrays ,0-D Arrays, 1-D Arrays, 2-D Arrays, 3-D Arrays, Check Number of Dimensions, Higher Dimensional Arrays.*"
   ]
  },
  {
   "cell_type": "code",
   "execution_count": 85,
   "id": "193b91b8-de1d-4aee-af90-6a0e10930b55",
   "metadata": {},
   "outputs": [
    {
     "name": "stdout",
     "output_type": "stream",
     "text": [
      "[41 43]\n"
     ]
    }
   ],
   "source": [
    "# array from elements on index 0 and 2\n",
    "arr = np.array([41, 42, 43, 44])\n",
    "x = [True, False, True, False]\n",
    "newarr = arr[x]\n",
    "print(newarr)\n"
   ]
  },
  {
   "cell_type": "markdown",
   "id": "c90148dc-cac4-4322-86ff-5b112bae306f",
   "metadata": {},
   "source": [
    "In 2-3 sentences, describe how your function took inspiration from a section.\\\n",
    "\\\n",
    "*For my example, `make_multi_dimensional_array`, I would talk about the **NumPy Creating Arrays** section and how I took inspiration from the example **Higher Dimensional Arrays**.*"
   ]
  },
  {
   "cell_type": "code",
   "execution_count": 87,
   "id": "fe11ac2d-dcdb-4e51-9460-c3cc1be48bef",
   "metadata": {},
   "outputs": [],
   "source": [
    "# My function took inspiration from the section of NumPy's filter array where they cycled thorugh an array and checked to see if its larger than a certain number. I then was able to use my knowledge from before and code in a conditional of being even to also cycle through another list."
   ]
  },
  {
   "cell_type": "markdown",
   "id": "8a834fd4-ef1b-4464-a07a-76e08a1c81c8",
   "metadata": {},
   "source": [
    "# 2 Brianna's Module\n",
    "During lecture we created and worked with a module called `even_sum.py`. Import that module here. "
   ]
  },
  {
   "cell_type": "code",
   "execution_count": 89,
   "id": "66e2a829-e478-4c97-8412-846cd93161f8",
   "metadata": {},
   "outputs": [
    {
     "ename": "ModuleNotFoundError",
     "evalue": "No module named 'even_sum'",
     "output_type": "error",
     "traceback": [
      "\u001b[1;31m---------------------------------------------------------------------------\u001b[0m",
      "\u001b[1;31mModuleNotFoundError\u001b[0m                       Traceback (most recent call last)",
      "Cell \u001b[1;32mIn[89], line 1\u001b[0m\n\u001b[1;32m----> 1\u001b[0m \u001b[38;5;28;01mimport\u001b[39;00m \u001b[38;5;21;01meven_sum\u001b[39;00m\u001b[38;5;21;01m.\u001b[39;00m\u001b[38;5;21;01mpy\u001b[39;00m\n",
      "\u001b[1;31mModuleNotFoundError\u001b[0m: No module named 'even_sum'"
     ]
    }
   ],
   "source": [
    "import even_sum.py"
   ]
  },
  {
   "cell_type": "markdown",
   "id": "210ee2c2-9b81-4ea4-bbe7-2d1fa94d646e",
   "metadata": {},
   "source": [
    "Now that you have imported the module. Call the module and the first function with your own list of numbers. "
   ]
  },
  {
   "cell_type": "code",
   "execution_count": null,
   "id": "89ad196d-5948-4e20-899a-d31eebdc4f2a",
   "metadata": {},
   "outputs": [],
   "source": [
    "# Your code here"
   ]
  },
  {
   "cell_type": "markdown",
   "id": "110d3cb8-b809-467b-9447-57810e4e3853",
   "metadata": {},
   "source": [
    "I have provided you a separate module called `example.py`. Import that module here."
   ]
  },
  {
   "cell_type": "code",
   "execution_count": 97,
   "id": "092eb2b9-dd15-4fdf-a7a2-ad32cd22ed88",
   "metadata": {},
   "outputs": [],
   "source": [
    "import example as ex"
   ]
  },
  {
   "cell_type": "markdown",
   "id": "a6922f89-01e7-41af-82e2-4236daa103b1",
   "metadata": {},
   "source": [
    "With the following variables, use my module to show which of the rocket's escape!"
   ]
  },
  {
   "cell_type": "code",
   "execution_count": 82,
   "id": "6b2e8b39-8441-469a-a128-19b04b8c8a2f",
   "metadata": {},
   "outputs": [],
   "source": [
    "rocket_velocities = np.array([\n",
    "    [1000, 5000, 8000, 12000],  # Rocket 1's velocity at different times\n",
    "    [2000, 6000, 9000, 10000],  # Rocket 2\n",
    "    [3000, 3100, 3200, 3300]    # Rocket 3\n",
    "])\n",
    "\n",
    "mass_of_planet = 5.972e24 # kilograms\n",
    "radius_of_planet = 6.371e6 # meters"
   ]
  },
  {
   "cell_type": "code",
   "execution_count": null,
   "id": "05196d65-9e31-4cec-ad01-9f9cebe00046",
   "metadata": {},
   "outputs": [],
   "source": [
    "# Your code here"
   ]
  },
  {
   "cell_type": "markdown",
   "id": "9ab3de38-dbd9-438f-a587-67e8777c9c93",
   "metadata": {},
   "source": [
    "In 2-3 sentences describe how this code follows \"good coding practices\" and where there is room for improvement."
   ]
  },
  {
   "cell_type": "code",
   "execution_count": null,
   "id": "94d49892-e1c0-4e6a-b05d-f9ddf3de4b44",
   "metadata": {},
   "outputs": [],
   "source": [
    "# Your comments here"
   ]
  },
  {
   "cell_type": "markdown",
   "id": "2dce5617-a86a-4327-aa99-f29548f3b92c",
   "metadata": {},
   "source": [
    "# 3 Your Turn!\n",
    "Now its your turn to make a module! Choose a topic from a class (could be physics, computer science, nuclear engineering, biology, astronomy, math, or an topic that interests you!) and build a module around it! Look at my module called `example.py` and base your structure around it. Your module NEEDS to include the following.\n",
    "\n",
    "Overall:\n",
    "1) Your module needs to use at least one NumPy function: https://numpy.org/devdocs/reference/routines.math.html\n",
    "2) Your module needs to contain a multi-dimensional array: https://numpy.org/devdocs/reference/arrays.ndarray.html \n",
    "3) Your module needs **at least** three functions that follow good coding practices.\n",
    "4) Inside your function, include comments. Don't forget to describe what the function is doing and what the inputs and outputs are.\n",
    "5) Your module needs either a `for` loop or `while` loop.\n",
    "6) Your module needs an `if`, `elif`, and `else` statement.\n",
    "7) Your module needs at least two assignment variables (`+=`, `*=`, etc).\n",
    "8) Creativity. *If it looks like you plugged this whole thing into ChatGPT, I will take off points. You can use ChatGPT to help you code, but you can't use it to just do your homework for you. That's no fun :(*\n",
    "\n",
    "In 2-3 sentences, describe the topic of your module and its capabilities. "
   ]
  },
  {
   "cell_type": "code",
   "execution_count": null,
   "id": "0db7310e-b286-4ce7-aa0b-c211e243b7d6",
   "metadata": {},
   "outputs": [],
   "source": [
    "# Your comment here"
   ]
  },
  {
   "cell_type": "markdown",
   "id": "f9ec7fbd-1d6d-4c08-8528-e9cdaa7e3f6b",
   "metadata": {},
   "source": [
    "In 2-3 sentences, answer the following. What was the most challenging part of building this module? What did you learn in the process that you can apply to future coding assignments?"
   ]
  },
  {
   "cell_type": "code",
   "execution_count": 30,
   "id": "19898c20-2adb-4011-b95e-1da864f7801a",
   "metadata": {},
   "outputs": [],
   "source": [
    "# Your comment here"
   ]
  },
  {
   "cell_type": "markdown",
   "id": "85e943ab-1036-46bc-b9fb-da4ab1890816",
   "metadata": {},
   "source": [
    "Once your module is complete, import it here."
   ]
  },
  {
   "cell_type": "code",
   "execution_count": 22,
   "id": "fb9821b1-3cc0-4999-97eb-441571bbd5e1",
   "metadata": {},
   "outputs": [],
   "source": [
    "# Your code here"
   ]
  },
  {
   "cell_type": "markdown",
   "id": "ac42ebd4-e51b-4be4-aaa7-6c7d550abd30",
   "metadata": {},
   "source": [
    "Call each of your functions in the cell below. Make sure to show the outputs! "
   ]
  },
  {
   "cell_type": "code",
   "execution_count": null,
   "id": "b63d3d1f-64bd-4dc7-b20f-c562d09c7c92",
   "metadata": {},
   "outputs": [],
   "source": [
    "# Your code here"
   ]
  },
  {
   "cell_type": "markdown",
   "id": "8cf33b19-9bca-484e-8129-d8a4896a1bfa",
   "metadata": {},
   "source": [
    "# 4 Proper Submission\n",
    "To recieve full credit for this assignment make sure you do the following:\n",
    "\n",
    "1) Copy this homework assignment from the `ulab_2024` repository into **YOUR** local `homework7` branch. It will contain this notebook and an additional file called `example.py`. \n",
    "   \n",
    "2) Follow the tasks. Make sure to run all the cells so that **all** output is visible. You will get points taken off if your ouputs are not shown!\n",
    "\n",
    "3) Add/commit/push this notebook and **ANY** modules (so you should have `example.py` and your module) used in this homework assignment to your remote `homework7` branch. Make sure to have NOTHING else in your branch (i.e. no previous homeworks or lecture notes).\n",
    "\n",
    "4) Do the following:\n",
    "- Take a screenshot of moving **into or out** of your `homework7` brach, call it `hw7_branch`.\n",
    "- Take a screenshot of calling `ls` in your `homework7` branch, it should only contain items relevent to homework 7, call it `hw7_ls`.\n",
    "- Take a screenshot of adding this assignment to your local `homework7` branch, call it `hw7_add`.\n",
    "- Take a screenshot of committing this assignment to your local `homework7` branch, call it `hw7_commit`.\n",
    "- Take a screenshot of pushing this assignment to your remote `homework7` branch, call it `hw7_push`. \n",
    "\n",
    "6) Include these screenshots in your `homework7` branch. Upload your `homework7` branch to Gradescope!"
   ]
  }
 ],
 "metadata": {
  "kernelspec": {
   "display_name": "Python 3 (ipykernel)",
   "language": "python",
   "name": "python3"
  },
  "language_info": {
   "codemirror_mode": {
    "name": "ipython",
    "version": 3
   },
   "file_extension": ".py",
   "mimetype": "text/x-python",
   "name": "python",
   "nbconvert_exporter": "python",
   "pygments_lexer": "ipython3",
   "version": "3.12.4"
  }
 },
 "nbformat": 4,
 "nbformat_minor": 5
}
