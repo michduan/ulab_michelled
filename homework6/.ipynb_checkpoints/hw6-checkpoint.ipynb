{
 "cells": [
  {
   "cell_type": "markdown",
   "id": "21a1f0d2-d75c-4443-b816-1d1db3760454",
   "metadata": {},
   "source": [
    "# HW 6 - Iterables\n",
    "ULAB - Physics and Astronomy Division \\\n",
    "Due **Wednesday, October 30th, 2024 at 11:59pm** on Gradescope\n",
    "\n",
    "### REMINDER: Once you are done with this homework, make sure to include a screenshot of you pushing this notebook inside of your homework6 branch. Make sure to include this screenshot in your branch before submitting to Gradescope!\n",
    "\n",
    "### If there is no screenshot, then you will recieve a zero! \n",
    "\n",
    "General Tip (so you don't get silly points taken off):\n",
    "- Make sure **each function** follows good coding practices (i.e. a comment, detailed names, different steps on each line, etc)."
   ]
  },
  {
   "cell_type": "markdown",
   "id": "8dc7e46b-1e8e-486c-a2e9-d615c687028b",
   "metadata": {},
   "source": [
    "# 1 Lists\n",
    "\n",
    "## 1.1 List Slicing and Striding\n",
    "Write a **function** that takes in a list of integers and returns:\n",
    "\n",
    "- the first 5 elements\n",
    "- the last 5 elements\n",
    "- every 2nd element in the list\n",
    "- the list in reverse order.\n",
    "\n",
    "Use the test case below, along with two other ones (that you make-up):\n",
    "\n",
    "```\n",
    "list = [1, 2, 3, 4, 5, 6, 7, 8, 9, 10, 11, 12, 14, 15, 16, 17, 18, 19, 20]\n",
    "```"
   ]
  },
  {
   "cell_type": "code",
   "execution_count": 8,
   "id": "08dabd73-3dbc-4aab-843a-d4b81102835d",
   "metadata": {},
   "outputs": [
    {
     "data": {
      "text/plain": [
       "'First five: [1, 3, 5, 7, 9], Last five: [9, 11, 13, 15, 17], Every second element: [1, 5, 9, 13, 17], Reversed list: [17, 15, 13, 11, 9, 7, 5, 3, 1]'"
      ]
     },
     "execution_count": 8,
     "metadata": {},
     "output_type": "execute_result"
    }
   ],
   "source": [
    "def list_slicing_and_striding(list): \n",
    "    # Using list slicing to get the first and last five, every second element, and reversed list\n",
    "    # using a formatted string to return all of it at once \n",
    "    first_five_elems = list[0:5]\n",
    "    last_five_elems = list[-5:]\n",
    "    every_second_elems = list[::2]\n",
    "    reverse_list = list[::-1]\n",
    "    combined_slices_strides = f\"First five: {first_five_elems}, Last five: {last_five_elems}, Every second element: {every_second_elems}, Reversed list: {reverse_list}\"\n",
    "\n",
    "    return combined_slices_strides\n",
    "\n",
    "\n",
    "# test 1, using the given list\n",
    "# should return: [1, 2, 3, 4, 5], [16, 17, 18, 19, 20], [1, 3, 5, 7, 9, 11, 14, 16, 18, 20], [20, 19, 18, 17, 16, 15, 14, 12, 11, 10, 9, 8, 7, 6, 5, 4, 3, 2, 1]\n",
    "list = [1, 2, 3, 4, 5, 6, 7, 8, 9, 10, 11, 12, 14, 15, 16, 17, 18, 19, 20]\n",
    "list_slicing_and_striding(list)\n",
    "\n",
    "# test 2, using a list composed of even numbers\n",
    "# should return [2, 4, 6, 8, 10], [8, 10, 12, 14, 16], [2, 6, 10, 14], [16, 14, 12, 10, 8, 6, 4, 2]\n",
    "list = [2, 4, 6, 8, 10, 12, 14, 16]\n",
    "list_slicing_and_striding(list)\n",
    "\n",
    "# test 3, using a list composed of odd numbers\n",
    "# should return [1, 3, 5, 7, 9], [9, 11, 13, 15, 17], [1, 5, 9, 13, 17], [17, 15, 13, 11, 9, 7, 5, 3, 1]\n",
    "list = [1, 3, 5, 7, 9, 11, 13, 15, 17]\n",
    "list_slicing_and_striding(list)\n",
    "\n"
   ]
  },
  {
   "cell_type": "markdown",
   "id": "92c77920-20fc-455e-bf52-10b5a518ed2d",
   "metadata": {},
   "source": [
    "## 1.2 Iterating Over Lists with For Loops\n",
    "Write a **function** that takes in a list, with a **for** loop to return: \n",
    "- the square of each number in the list\n",
    "- the cube of each even number in the list\n",
    "\n",
    "Use the test case below, along with two other ones (that you make-up):\n",
    "\n",
    "```\n",
    "list = [1, 2, 3, 4, 5, 6]\n",
    "```"
   ]
  },
  {
   "cell_type": "code",
   "execution_count": 10,
   "id": "5054c807-a247-4159-9ce1-43020bcc3000",
   "metadata": {},
   "outputs": [
    {
     "data": {
      "text/plain": [
       "'Square of each number in the line: [25, 36, 49, 9, 1, 64, 81], Cube of each even number in the list: [216, 512]'"
      ]
     },
     "execution_count": 10,
     "metadata": {},
     "output_type": "execute_result"
    }
   ],
   "source": [
    "def list_iteration_with_loops(list): \n",
    "    # Using a for loop to iterate through the list and square, then appending to the main list\n",
    "    # using an if statement to check if it's even and appending to the main list\n",
    "    squared_list = []\n",
    "    cubed_even_list = []\n",
    "    for element in list: \n",
    "        squared_list.append(element ** 2) \n",
    "        if element % 2 == 0:\n",
    "            cubed_even_list.append(element ** 3)\n",
    "    return f\"Square of each number in the line: {squared_list}, Cube of each even number in the list: {cubed_even_list}\"\n",
    "\n",
    "# test case 1: \n",
    "# list = [1, 2, 3, 4, 5, 6], should produce: [1, 4, 9, 16, 25, 36], [8, 64, 216]\n",
    "list = [1, 2, 3, 4, 5, 6]\n",
    "list_iteration_with_loops(list)\n",
    "\n",
    "# test case 2:\n",
    "# list = [2, 2, 4, 3, 1], should produce: [4, 4, 16, 9, 1], [8, 8, 64]\n",
    "list = [2, 2, 4, 3, 1]\n",
    "list_iteration_with_loops(list)\n",
    "\n",
    "# test case 3:\n",
    "# list = [5, 6, 7, 3, 1, 8, 9], should produce: [25, 36, 49, 9, 1, 64, 81], [216, 512]\n",
    "list = [5, 6, 7, 3, 1, 8, 9]\n",
    "list_iteration_with_loops(list)"
   ]
  },
  {
   "cell_type": "markdown",
   "id": "e2e075da-c004-400d-b796-5435e096816d",
   "metadata": {},
   "source": [
    "# 2 Dictionaries\n",
    "We have not fully covered **dictionaries** in class, but a **dictionary** is a collection of key-value pairs. Each key is unique and is associated with a specific value. Like a real dictionary! \n",
    "\n",
    "You can create a dictionary by placing key-value pairs inside of curly brackets `{}` with a `:` separating the key from the value. \n",
    "\n",
    "Run the cell below for an example:"
   ]
  },
  {
   "cell_type": "code",
   "execution_count": 12,
   "id": "dbdb0f41-4f57-4524-ab51-ff1fc502bdfc",
   "metadata": {},
   "outputs": [
    {
     "name": "stdout",
     "output_type": "stream",
     "text": [
      "{'Mercury': 0.39, 'Venus': 0.72, 'Earth': 1.0, 'Mars': 1.52, 'Jupiter': 5.2, 'Saturn': 9.58, 'Uranus': 19.22, 'Neptune': 30.05}\n"
     ]
    }
   ],
   "source": [
    "# A dictionary that contains some data about the planets in our solar system\n",
    "planet_data = {\n",
    "    \"Mercury\": 0.39, \n",
    "    \"Venus\": 0.72,\n",
    "    \"Earth\": 1.00, # distance from the Sun in AU\n",
    "    \"Mars\": 1.52,\n",
    "    \"Jupiter\": 5.20,\n",
    "    \"Saturn\": 9.58,\n",
    "    \"Uranus\": 19.22,\n",
    "    \"Neptune\": 30.05\n",
    "}   \n",
    "\n",
    "print(planet_data) # print the dictonary"
   ]
  },
  {
   "cell_type": "markdown",
   "id": "886c93f4-0027-4969-ba67-cc12eca04c9c",
   "metadata": {},
   "source": [
    "## 2.1 Looping through a dictionary\n",
    "Write a function that takes in the `planet_data` dictionary and uses a `for` loop to print the names of each of the planets and its distance from the sun."
   ]
  },
  {
   "cell_type": "code",
   "execution_count": 14,
   "id": "a3ab065a-42f5-4aa0-8e0f-38e87c583464",
   "metadata": {},
   "outputs": [
    {
     "name": "stdout",
     "output_type": "stream",
     "text": [
      "Mercury\n",
      "0.39\n",
      "Venus\n",
      "0.72\n",
      "Earth\n",
      "1.0\n",
      "Mars\n",
      "1.52\n",
      "Jupiter\n",
      "5.2\n",
      "Saturn\n",
      "9.58\n",
      "Uranus\n",
      "19.22\n",
      "Neptune\n",
      "30.05\n"
     ]
    }
   ],
   "source": [
    "def dictionary_loop(dictionary): \n",
    "    # using a for loop, we can iterate through each of the keys in the given dictionary\n",
    "    # then, we can call on the values associated to each key with dictionary[key] to print it after\n",
    "    for key in dictionary: \n",
    "        print(key)\n",
    "        print(dictionary[key])\n",
    "        \n",
    "# printing each key and value in planet_data\n",
    "dictionary_loop(planet_data)"
   ]
  },
  {
   "cell_type": "markdown",
   "id": "2b38b6fb-ce68-4f20-a8a1-ba241e8db53e",
   "metadata": {},
   "source": [
    "## 2.2 Dictionaries and Conditionals\n",
    "Write a function that uses a while loop to print all the planets that are a minimum distance of 5 AU from the Sun. "
   ]
  },
  {
   "cell_type": "code",
   "execution_count": 16,
   "id": "6e07cf13-efba-4a75-ad75-0428dc31108d",
   "metadata": {},
   "outputs": [
    {
     "name": "stdout",
     "output_type": "stream",
     "text": [
      "Jupiter\n",
      "Saturn\n",
      "Uranus\n",
      "Neptune\n"
     ]
    }
   ],
   "source": [
    "def planets_min_five_AU(dictionary): \n",
    "    # using a for loop we can go through the dictionary\n",
    "    # using an if statement, we can set a condition for filtering those that are equal to and greater than 5\n",
    "    for key in dictionary:\n",
    "        if dictionary[key] >= 5: \n",
    "            print(key)\n",
    "\n",
    "planets_min_five_AU(planet_data)"
   ]
  },
  {
   "cell_type": "markdown",
   "id": "5e1ba0c0-5dd9-44e8-895c-73a36d614949",
   "metadata": {},
   "source": [
    "# 3 Observing Stars in a Cluster\n",
    "Your goal is to calculate the total brightness of a group of stars in a star cluster and estimate how long it would take for a telescope to observer each star, depending on their brightness (magnitude). Here is some background information:\n",
    "- The brightness of a star, from a telescope, is measured by its **apparent magnitude**, a LOWER magnitude means a brighter star. A HIGHER magnitude means a fainter star. So a 4th magnitude star is much brighter than a 17th magnitude star.\n",
    "- To convert magnitude into brightness, use the following formula\n",
    "$$\n",
    "\\text{Brightness} = 10^{-\\frac{\\text{magnitude}}{2.5}}\n",
    "$$\n",
    "\n",
    "Use this list of magnitudes and time limit:\n",
    "\n",
    "```\n",
    "magnitudes = [12.5, 13.2, 14.8, 19.1, 21.0, 18.5, 15.3, 10.5, 23.0]\n",
    "time_limit = 500\n",
    "```\n",
    "\n",
    "Expected outcome (your solutions with be the answers to the ???):\n",
    "- Total brightness of the stars: ???\n",
    "- Total observation time for all observable stars: ???\n",
    "- Number of stars that can be observed within 500 seconds: ???"
   ]
  },
  {
   "cell_type": "markdown",
   "id": "336785a7-71bf-434d-982c-dd72dd29cf71",
   "metadata": {},
   "source": [
    "## 3.1 Calculate Brightness\n",
    "1) Write a **function** which inputs a list of star magnitudes (brightnesses).\n",
    "2) Inside your function, use a `for` loop to calculate (with the given formula) the brightness of each star.\n",
    "3) Inside your function, use a `for` loop to sum up the total brightness of all the stars.\n",
    "5) Have your function return the **total brightness** of all the stars and a **list of the brightnesses** of the stars.\n",
    "6) Test out your function with the **given** magnitude values."
   ]
  },
  {
   "cell_type": "code",
   "execution_count": 19,
   "id": "ccc331f4-c029-4a82-810b-4a78d0fa1a2a",
   "metadata": {},
   "outputs": [
    {
     "data": {
      "text/plain": [
       "'Total brightness: 30.84, list of brightness: [5.0, 4.720000000000001, 4.08, 2.3599999999999994, 1.5999999999999996, 2.5999999999999996, 3.88, 5.8, 0.8000000000000007]'"
      ]
     },
     "execution_count": 19,
     "metadata": {},
     "output_type": "execute_result"
    }
   ],
   "source": [
    "def star_brightness(magnitudes): \n",
    "    # using a list to hold the calculated brightness\n",
    "    # using a for loop to go through the magnitudes and calculate + sum up brightness \n",
    "    brightness = []\n",
    "    total_brightness = 0\n",
    "    for magnitude in magnitudes: \n",
    "        magnitude = magnitude / 2.5 \n",
    "        brightness_num = 10 - magnitude \n",
    "        brightness.append(brightness_num) \n",
    "        total_brightness += brightness_num\n",
    "    return f\"Total brightness: {total_brightness}, list of brightness: {brightness}\"\n",
    "\n",
    "# test 1\n",
    "magnitudes = [12.5, 13.2, 14.8, 19.1, 21.0, 18.5, 15.3, 10.5, 23.0]\n",
    "time_limit = 500\n",
    "star_brightness(magnitudes)"
   ]
  },
  {
   "cell_type": "markdown",
   "id": "9aff0e1c-9f88-4ebb-a05b-d39363d9e88e",
   "metadata": {},
   "source": [
    "## 3.2 Observation Time\n",
    "1) Write a **function** which inputs a list of star magnitudes (brightnesses).\n",
    "2) Inside your function, use a `for` loop to calculate the time to observe each star.\n",
    "- You can just assume each star's observation time is inversely proportional to its brightness with the following formula:\n",
    "\n",
    "$$\n",
    "\\text{Observation Time (in seconds)} \\propto \\frac{1}{\\text{Brightness}} \n",
    "$$\n",
    "\n",
    "3) Inside you function, write a `condition` that ignores stars that have a magnitude greater than 20 (very very faint stars).\n",
    "4) Have your function return the **total observation time** (ignoring >20 magnitudes) and a **list of the times** it would take to observe each individual star.\n",
    "5) Test out your function with the **given** magnitude values."
   ]
  },
  {
   "cell_type": "code",
   "execution_count": 21,
   "id": "044d17cf-82a8-44b6-8958-447632f713f6",
   "metadata": {},
   "outputs": [
    {
     "data": {
      "text/plain": [
       "'Total observation time: 1.8954523960363892, List of times: [0.2, 0.21186440677966098, 0.24509803921568626, 0.4237288135593221, 0.3846153846153847, 0.2577319587628866, 0.1724137931034483]'"
      ]
     },
     "execution_count": 21,
     "metadata": {},
     "output_type": "execute_result"
    }
   ],
   "source": [
    "def total_observ_time(magnitude): \n",
    "    # using a list and a summed amount, we can find total and list \n",
    "    # Using the condition of being less than 20, I can ignore >20 mags\n",
    "    # I incorporate the previous function and add it to find the values\n",
    "    time_list = []\n",
    "    total_time = 0\n",
    "    \n",
    "    for magn_num in magnitude: \n",
    "        if magn_num > 20: \n",
    "            continue \n",
    "        magn_num = magn_num / 2.5 \n",
    "        brightness_amt = 10 - magn_num\n",
    "        time = 1 / brightness_amt\n",
    "        time_list.append(time) \n",
    "        total_time += time\n",
    "    return f\"Total observation time: {total_time}, List of times: {time_list}\"\n",
    "\n",
    "magnitudes = [12.5, 13.2, 14.8, 19.1, 21.0, 18.5, 15.3, 10.5, 23.0]\n",
    "total_observ_time(magnitudes)"
   ]
  },
  {
   "cell_type": "markdown",
   "id": "102d3c15-0b4f-48a7-8fdc-f896c1841aca",
   "metadata": {},
   "source": [
    "## 3.3 Time Until the Limit\n",
    "1) Write a **function** which inputs a list of star magnitudes (brightnesses) and time limit.\n",
    "   - Make your time limit a default argument.\n",
    "2) Inside your function, make a counter called `total time` and set it to 0.\n",
    "3) Inside your function, use a `while` loop to set the time limit of your observation.\n",
    "4) Inside your function, use assigment operators to update the `total time` observed. \n",
    "5) Inside your function, use a `condition` to skip stars with magnitude 20 or greater. \n",
    "6) Have your function return the **number of stars that can be observed** within the time limit and **how long the observation will take** (this should be less than the time limit).\n",
    "7) Test out your function with the **given** magnitude values and time limit."
   ]
  },
  {
   "cell_type": "code",
   "execution_count": 23,
   "id": "5a541a62-0903-41bd-91c9-ee21172069a3",
   "metadata": {},
   "outputs": [
    {
     "data": {
      "text/plain": [
       "(7, 1.8954523960363892)"
      ]
     },
     "execution_count": 23,
     "metadata": {},
     "output_type": "execute_result"
    }
   ],
   "source": [
    "def time_until_limit(magnitude, time): \n",
    "    # total_time counts the total time \n",
    "    # stars_observed is the amount that is less than 20 magnitude \n",
    "    # by setting conditions we can add together the magnitudes and count the stars\n",
    "    total_time = 0 \n",
    "    time_limit = time\n",
    "    stars_observed = 0\n",
    "    counter = 0\n",
    "    while total_time < time_limit and counter < len(magnitude):\n",
    "        if magnitude[counter] <= 20:\n",
    "            \n",
    "            magn_num = magnitude[counter] / 2.5 \n",
    "            brightness_amt = 10 - magn_num\n",
    "            time = 1 / brightness_amt\n",
    "            total_time += time \n",
    "            if total_time >= time_limit: \n",
    "                break\n",
    "            stars_observed += 1  \n",
    "        counter += 1  \n",
    "    return stars_observed, total_time\n",
    "\n",
    "# test 1\n",
    "magnitudes = [12.5, 13.2, 14.8, 19.1, 21.0, 18.5, 15.3, 10.5, 23.0]\n",
    "time_limit = 500\n",
    "time_until_limit(magnitudes, time_limit)\n"
   ]
  },
  {
   "cell_type": "markdown",
   "id": "d2ab246f-9570-483e-b35b-cf1056f20936",
   "metadata": {},
   "source": [
    "## 3.4 Call Upon Your Functions\n",
    "You do not need to rewrite your functions once you have written them! That's what is so awesome about **functions**! \n",
    "\n",
    "1) With a new test case (different magnitudes and time limit) call your three functions you wrote above.\n",
    "2) Print out their return statements, example:\n",
    "\n",
    "```\n",
    ">>> my_return = my_function(my_argument):\n",
    ">>> print(my_return)\n",
    "```"
   ]
  },
  {
   "cell_type": "code",
   "execution_count": 25,
   "id": "4c4c9389-04f5-49bc-823c-a12d6c003b60",
   "metadata": {},
   "outputs": [
    {
     "data": {
      "text/plain": [
       "(4, 0.9016574290260341)"
      ]
     },
     "execution_count": 25,
     "metadata": {},
     "output_type": "execute_result"
    }
   ],
   "source": [
    "\n",
    "# test 2, testing out all three cases \n",
    "time_limit = 600\n",
    "magnitudes = [12.6, 19.2, 23, 48, 4.5, 8]\n",
    "star_brightness(magnitudes)\n",
    "total_observ_time(magnitudes)\n",
    "time_until_limit(magnitudes, time_limit)\n"
   ]
  },
  {
   "cell_type": "markdown",
   "id": "daba92d4-a646-4efc-824d-85b52ea3c573",
   "metadata": {},
   "source": [
    "# 4 Debug the Quadratic Function!\n",
    "The code below does not follow proper coding hygiene (good coding sklls) and is riddled with bugs! Answer the following question and follow the steps below:\n",
    "1) When you run the cell, what is the first error you get? What does this mean? What are three other things wrong with this function?\n",
    "2) Fix the bugs! No importing packages.\n",
    "3) Rewrite the code, such that it follows \"good coding skills\".\n",
    "\n",
    "Try out the test case of `a = 2`, `b = -5` and `c = 3`. You should get `(1.5, 1.0)`. Try out your own test case as well."
   ]
  },
  {
   "cell_type": "code",
   "execution_count": 27,
   "id": "cd66dd28-f8d3-447c-8d20-ff3e31bfaa07",
   "metadata": {},
   "outputs": [
    {
     "name": "stdout",
     "output_type": "stream",
     "text": [
      "1.5 1.0\n",
      "(0.05555555555555561+0.8146043499230655j) (0.055555555555555504-0.8146043499230655j)\n"
     ]
    }
   ],
   "source": [
    "# 1. the first error that I get is an invalid decimal literal regarding line 5, bottom = 2a. This means that the way that we're trying to manipulate a or 2 is invalid due to the type of it. Additionally, it is a valid operation to do. \n",
    "# Three other things that are incorrect is on line 3, where two seems to be taken as a constant. It wouldn't work in this case, because two is seen as an undeclared variable.\n",
    "# Another thing would be on line 7, where print doesn't have closing quotations and paranthesis. Finally, on line 8, there are two different equal signs that aren't associated with a conditional statement. \n",
    "\n",
    "def quadratic_function(a, b, c):\n",
    "    # shortened it down to having two parts: denominator and denominator \n",
    "    # handle a denominator that isn't 0, passing in singular integers for b\n",
    "    # doing computations to print out the code\n",
    "    denominator = 2 * a\n",
    "    numerator = (b ** 2) - (4 * a * c)  \n",
    "    if denominator != 0:\n",
    "        pos_answer = -b + (numerator ** (1/2)) \n",
    "        pos_answer = pos_answer / denominator\n",
    "        neg_answer = -b - (numerator ** (1/2))\n",
    "        neg_answer = neg_answer / denominator \n",
    "    print(pos_answer, neg_answer)\n",
    "\n",
    "# test 1, using the given numbers\n",
    "a = 2\n",
    "b = -5\n",
    "c = 3\n",
    "quadratic_function(a, b, c)\n",
    "\n",
    "# test 2, my test case\n",
    "a = 9\n",
    "b = -1\n",
    "c = 6\n",
    "quadratic_function(a, b, c)\n",
    "\n",
    "\n",
    "        "
   ]
  },
  {
   "cell_type": "markdown",
   "id": "8cf33b19-9bca-484e-8129-d8a4896a1bfa",
   "metadata": {},
   "source": [
    "# 5 Proper Submission\n",
    "To recieve full credit for this assignment make sure you do the following:\n",
    "1) Copy this jupter notebook from the `ulab_2024` repository into **YOUR** local `homework` branch.\n",
    "   \n",
    "3) Follow the tasks. Make sure to run all the cells so that all output is visible.\n",
    "   \n",
    "5) Push this notebook to your remote `homework6` branch. Refer to the lecture slides for more information.\n",
    "      \n",
    "6) **WARNING!! IF YOU DO NOT FOLLOW THIS STEP YOU WILL RECIEVE A ZERO!**\n",
    "   1) Take a screenshot of your command line when you `push` this notebook from your local `homework6` branch to your remote `homework6` branch. Make sure to prove that you are inside a branch besides `main` or `master` by calling `git branch` and make sure to prove that your `homework6` branch only contains the homework4 folder of Jupyter Notebook you copied over from `ulab_2024` (which can be done by calling `ls`). You could also call `git status` before/after as a way to prove you pushed the proper files to the correct branches.\n",
    "   2)  Include that screenshot in your remote branch when you upload your GitHub branch to Gradescope!"
   ]
  },
  {
   "cell_type": "code",
   "execution_count": null,
   "id": "b0926042-d1cf-4a2e-8fc8-d93395a6a7cf",
   "metadata": {},
   "outputs": [],
   "source": []
  }
 ],
 "metadata": {
  "kernelspec": {
   "display_name": "Python 3 (ipykernel)",
   "language": "python",
   "name": "python3"
  },
  "language_info": {
   "codemirror_mode": {
    "name": "ipython",
    "version": 3
   },
   "file_extension": ".py",
   "mimetype": "text/x-python",
   "name": "python",
   "nbconvert_exporter": "python",
   "pygments_lexer": "ipython3",
   "version": "3.12.4"
  }
 },
 "nbformat": 4,
 "nbformat_minor": 5
}
